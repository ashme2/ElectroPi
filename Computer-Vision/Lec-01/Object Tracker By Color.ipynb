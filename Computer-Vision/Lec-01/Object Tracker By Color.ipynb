{
 "cells": [
  {
   "cell_type": "markdown",
   "id": "00500b69-cdad-44b0-befc-155191b429ad",
   "metadata": {},
   "source": [
    "# Challenge 2 "
   ]
  },
  {
   "cell_type": "markdown",
   "id": "60326e32-f2d0-45db-bb5a-d2fc9676756b",
   "metadata": {},
   "source": [
    "## Object Tracker By Color"
   ]
  },
  {
   "cell_type": "markdown",
   "id": "87d1ca8c-3bd4-4c76-81b7-e38cc868936e",
   "metadata": {},
   "source": [
    "Build Object Tracker By Color \n",
    "\n",
    "Function will ask the user about the object to  track\n",
    "\n",
    "User feed string input  e.g. \"Blue Shirt\"\n",
    "\n",
    "Function would use the first word to choose  the corresponding lower and upper limit in range method \n",
    "\n",
    "Make the function ready for at least 3 colors ( Red , Green , Blue )"
   ]
  },
  {
   "cell_type": "code",
   "execution_count": 1,
   "id": "e20869cc-2b35-46bc-bb56-a1b75cfeec40",
   "metadata": {},
   "outputs": [],
   "source": [
    "import cv2\n",
    "import numpy as np"
   ]
  },
  {
   "cell_type": "code",
   "execution_count": 4,
   "id": "b4f1d107-dd9a-4519-9f04-9e83cfe76de9",
   "metadata": {},
   "outputs": [],
   "source": [
    "def lower_upper(color_name):\n",
    "    # define range of blue color in HSV\n",
    "    lower_blue = np.array([105,50,50])\n",
    "    upper_blue = np.array([130,255,255])\n",
    "\n",
    "    # define range of green color in HSV\n",
    "    lower_green = np.array([45,50,50])\n",
    "    upper_green = np.array([75,255,255])\n",
    "\n",
    "    # define range of red color in HSV\n",
    "    lower_red = np.array([0,50,50])\n",
    "    upper_red = np.array([10,255,255])\n",
    "    \n",
    "    # Color Testing\n",
    "    ct = color_name[0:3]\n",
    "    if ct.lower()=='blu':\n",
    "        lower = lower_blue\n",
    "        upper = upper_blue\n",
    "    elif ct.lower()=='gre':\n",
    "        lower = lower_green\n",
    "        upper = upper_green\n",
    "    elif ct.lower()=='red':\n",
    "        lower = lower_red\n",
    "        upper = upper_red\n",
    "    else:\n",
    "        # User Input is not correct\n",
    "        lower = np.array([0,0,0])\n",
    "        upper = np.array([0,0,0])\n",
    "    \n",
    "    return lower, upper, ct.lower();"
   ]
  },
  {
   "cell_type": "code",
   "execution_count": 8,
   "id": "3636fecb-c571-4314-80d2-35d04724810e",
   "metadata": {},
   "outputs": [],
   "source": [
    "def object_tracker():\n",
    "    \n",
    "    while(1):\n",
    "        user_color = input('Kindly write object name to track it: ')\n",
    "        lower, upper, ct = lower_upper(user_color)\n",
    "        if lower[1] != 0:\n",
    "            print('Lower Range: (' + str(lower[0]) + ', ' + str(lower[1]) + ', ' + str(lower[2]) + ')')\n",
    "            print('Upper Range: (' + str(upper[0]) + ', ' + str(upper[1]) + ', ' + str(upper[2]) + ')')\n",
    "            break\n",
    "\n",
    "    while(1):\n",
    "        user_video = input('Write your selection (Video / Live): ')\n",
    "        if user_video.lower() == 'video':\n",
    "            # Select one of the following 2 code lines for: (HDD Video ,or Online Video)\n",
    "            # Video Stored in your HDD\n",
    "            cap = cv2.VideoCapture('Smurfs.mp4')\n",
    "            # Online Video\n",
    "            #cap = cv2.VideoCapture('http://commondatastorage.googleapis.com/gtv-videos-bucket/sample/BigBuckBunny.mp4')\n",
    "\n",
    "            break\n",
    "        elif user_video.lower() == 'live':\n",
    "            cap = cv2.VideoCapture(0)\n",
    "            break\n",
    "\n",
    "\n",
    "    while(1):\n",
    "        x, frame = cap.read()\n",
    "        hsv = cv2.cvtColor(frame, cv2.COLOR_BGR2HSV)\n",
    "\n",
    "        # Threshold the HSV image to get only blue colors\n",
    "        if ct == 'red':\n",
    "            lower_2 = np.array([170,50,50])\n",
    "            upper_2 = np.array([179,255,255])\n",
    "            mask_1 = cv2.inRange(hsv, lower, upper)\n",
    "            mask_2 = cv2.inRange(hsv, lower_2, upper_2)\n",
    "            mask = mask_1 + mask_2\n",
    "        else:\n",
    "            mask = cv2.inRange(hsv, lower, upper)\n",
    "\n",
    "        res = cv2.bitwise_and(frame,frame, mask= mask)\n",
    "\n",
    "        cv2.imshow('frame',frame)\n",
    "        cv2.imshow('mask',mask)\n",
    "        cv2.imshow('res',res)\n",
    "\n",
    "        if cv2.waitKey(10) & 0xFF == ord('q'):\n",
    "            break\n",
    "\n",
    "    cv2.destroyAllWindows()\n",
    "    cap.release()"
   ]
  },
  {
   "cell_type": "code",
   "execution_count": 7,
   "id": "a4d36339-3589-41f1-bbf6-27aa0b77c94a",
   "metadata": {},
   "outputs": [
    {
     "name": "stdin",
     "output_type": "stream",
     "text": [
      "Kindly write object name to track it:  Blue Smurfs\n"
     ]
    },
    {
     "name": "stdout",
     "output_type": "stream",
     "text": [
      "Lower Range: (105, 50, 50)\n",
      "Upper Range: (130, 255, 255)\n"
     ]
    },
    {
     "name": "stdin",
     "output_type": "stream",
     "text": [
      "Write your selection (Video / Live) Video\n"
     ]
    }
   ],
   "source": [
    "# Call Main Function\n",
    "object_tracker()"
   ]
  },
  {
   "cell_type": "markdown",
   "id": "b7db0558-29be-46f5-b6bf-19ed5479424e",
   "metadata": {},
   "source": [
    "# Helping & Testing Code:"
   ]
  },
  {
   "cell_type": "code",
   "execution_count": 9,
   "id": "4d9918e9-32fc-4a4c-8ae1-bfdf0d915260",
   "metadata": {},
   "outputs": [
    {
     "name": "stdout",
     "output_type": "stream",
     "text": [
      "HSV of Blue: [[[120 255 255]]]\n",
      "HSV of Green: [[[ 60 255 255]]]\n",
      "HSV of Red: [[[  0 255 255]]]\n"
     ]
    }
   ],
   "source": [
    "# To Determine Color Value in HSV\n",
    "\n",
    "blue = np.uint8([[[255,0,0]]])\n",
    "hsv_blue = cv2.cvtColor(blue, cv2.COLOR_BGR2HSV)\n",
    "print('HSV of Blue: ' + str(hsv_blue))\n",
    "\n",
    "green = np.uint8([[[0,255,0 ]]])\n",
    "hsv_green = cv2.cvtColor(green, cv2.COLOR_BGR2HSV)\n",
    "print('HSV of Green: ' + str(hsv_green) )\n",
    "\n",
    "red = np.uint8([[[0,0,255]]])\n",
    "hsv_red = cv2.cvtColor(red, cv2.COLOR_BGR2HSV)\n",
    "print('HSV of Red: ' + str(hsv_red))\n"
   ]
  },
  {
   "cell_type": "markdown",
   "id": "ccbf028b-02a8-4fc7-9a9e-016f5dbe27d9",
   "metadata": {},
   "source": [
    "### H&deg; Color Range in HSV Color Space:"
   ]
  },
  {
   "cell_type": "markdown",
   "id": "26409f1b-571b-4ee7-a64d-f7bfbe9313f2",
   "metadata": {},
   "source": [
    "The below image shows the H&deg; color range in HSV Color Space.\\\n",
    "Note that: the image show 360&deg; but OpenCV uses 180&deg;, so you should divide any color degree by 2.\\\n",
    "For Example:\n",
    "+ If you need green color (120&deg; from image),\n",
    "+ you'll divide it by 2,\n",
    "+ and write 60&deg; in OpenCV H value of HSV range."
   ]
  },
  {
   "cell_type": "markdown",
   "id": "9788d797-41e5-44a9-bafc-9863555464fe",
   "metadata": {},
   "source": [
    "![alt text](hsvColorRange.png \"HSV Color Range\")"
   ]
  },
  {
   "cell_type": "markdown",
   "id": "23a9ac29-d5e0-48f7-83cf-801b7d2c1849",
   "metadata": {},
   "source": [
    "# References:"
   ]
  },
  {
   "cell_type": "markdown",
   "id": "f1a51d37-0cb7-4f60-818b-1a3a05226a16",
   "metadata": {},
   "source": [
    "+ Electro Pi Computer Vision offline Course at: https://electro-pi.com/\n",
    "+ Free online mp4 Videos: https://gist.github.com/jsturgis/3b19447b304616f18657"
   ]
  },
  {
   "cell_type": "code",
   "execution_count": null,
   "id": "97826ad0-8da0-405b-9c0b-5bfe03ebc423",
   "metadata": {},
   "outputs": [],
   "source": []
  }
 ],
 "metadata": {
  "kernelspec": {
   "display_name": "Python 3",
   "language": "python",
   "name": "python3"
  },
  "language_info": {
   "codemirror_mode": {
    "name": "ipython",
    "version": 3
   },
   "file_extension": ".py",
   "mimetype": "text/x-python",
   "name": "python",
   "nbconvert_exporter": "python",
   "pygments_lexer": "ipython3",
   "version": "3.8.8"
  }
 },
 "nbformat": 4,
 "nbformat_minor": 5
}
