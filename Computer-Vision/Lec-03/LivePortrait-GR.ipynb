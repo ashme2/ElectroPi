{
 "cells": [
  {
   "cell_type": "markdown",
   "metadata": {},
   "source": [
    "# Live Portrait\n",
    "\n",
    "#### This code builds Portrait Video/Live Mode with blurring, and the following picture shows points calculations:"
   ]
  },
  {
   "cell_type": "markdown",
   "metadata": {},
   "source": [
    "![alt text](LivePortrait-Model-S.jpg \"Live Portrait Model\")"
   ]
  },
  {
   "cell_type": "markdown",
   "metadata": {},
   "source": [
    "#### The percentages of dw & dh are calculated from the Golden Ratio\n",
    "* If don't care about Golden Ratio, you can neglect the following proof and select any percentages."
   ]
  },
  {
   "cell_type": "markdown",
   "metadata": {},
   "source": [
    "##### \"According to the available literature, Golden Ratio is also known as the Golden Mean, Golden Section, Golden Cut, Golden Number, Golden Rectangle, Divine Proportion, and Divine Section. It is said that the most beautiful objects of the universe and Nature are designed with the Fibonacci sequence and the Golden Ratio.\"\n",
    "Reference Link:\n",
    "https://www.quora.com/What-are-3-other-names-for-the-golden-ratio"
   ]
  },
  {
   "cell_type": "markdown",
   "metadata": {},
   "source": [
    "![alt text](Golden-Ratio.jpg \"Golden Ratio\")"
   ]
  },
  {
   "cell_type": "markdown",
   "metadata": {},
   "source": [
    "### The proof of dw & dh percentages:\n",
    "#### Assume that ==>\n",
    "W = a + b\\\n",
    "b = W - a ==> 1\\\n",
    "b = 2 * dw\\\n",
    "dw = b / 2 ==> 2\n",
    "#### From Golden Ratio ==>\n",
    "W / a = 1.618\\\n",
    "a = W / 1.618 ==> 3\n",
    "#### Substitute from 3 in 1\n",
    "b = W - (W / 1.618)\\\n",
    "b = W * (1 - [1 / 1.618])\\\n",
    "b = 0.38 * W ==> 4\n",
    "#### Substitute from 4 in 2\n",
    "dw = 0.19 * W ==> 5\n",
    "#### From Golden Raio Assume that ==>\n",
    "dw / dh = 1.618\\\n",
    "dh = dw / 1.618 ==> 6\n",
    "#### Substitute from 6 in 5\n",
    "dh = 0.11 * W\n",
    "#### Assume that ==>\n",
    "H = W / 2\\\n",
    "dh = 0.055 * H"
   ]
  },
  {
   "cell_type": "code",
   "execution_count": 1,
   "metadata": {},
   "outputs": [],
   "source": [
    "import numpy as np\n",
    "import cv2 \n",
    "from matplotlib import pyplot as plt "
   ]
  },
  {
   "cell_type": "code",
   "execution_count": 2,
   "metadata": {},
   "outputs": [],
   "source": [
    "def live_portrait():\n",
    "    \n",
    "    while(1):\n",
    "        # Ask user for portrait shape (Rectangle / Circle)??\n",
    "        user_shape = input('Write your portrait selection (Rectangle / Circle): ')\n",
    "        if (user_shape.lower() == 'rectangle') or (user_shape.lower() == 'circle'):\n",
    "            break\n",
    "            \n",
    "    # To run live camera: run the following code\n",
    "    #cap = cv2.VideoCapture(0)\n",
    "    \n",
    "    # This code is for runing online video\n",
    "    cap = cv2.VideoCapture('https://ia601501.us.archive.org/0/items/pexels-pavel-danilyuk-8747604_L/pexels-pavel-danilyuk-8747604_L.mp4')\n",
    "\n",
    "    while(1):\n",
    "\n",
    "        ret, frame = cap.read()\n",
    "        \n",
    "        # Checking if video/live is playing or has finished\n",
    "        if ret == True:\n",
    "        \n",
    "            #percent of rectangle\n",
    "            scale_w = 19\n",
    "            scale_h = 5.5\n",
    "\n",
    "            #calculate the original image dimensions\n",
    "            width = int(frame.shape[1])\n",
    "            height = int(frame.shape[0])\n",
    "\n",
    "\n",
    "            #calculate the percent dimensions\n",
    "            distance_w = int(width * scale_w / 100)\n",
    "            distance_h = int(height * scale_h / 100)\n",
    "\n",
    "            # Ceneter Points\n",
    "            center_w = int(width / 2)\n",
    "            center_h = int(height / 2)\n",
    "\n",
    "            start_point = (distance_w, distance_h)\n",
    "            end_point = ((width - distance_w), (height - distance_h))\n",
    "            center_point = (center_w, center_h)\n",
    "            color_white = (255, 255, 255)\n",
    "            color_black = (0, 0, 0)\n",
    "            thickness = -1\n",
    "\n",
    "            shape_blac = frame.copy()\n",
    "            shape_blac = cv2.GaussianBlur(shape_blac,(111,111),10)\n",
    "\n",
    "            rectangle = np.zeros((height, width), dtype=\"uint8\")\n",
    "\n",
    "            # Checking user shape selection (Rectangle / Circle)??\n",
    "            if user_shape.lower() == 'rectangle':\n",
    "                shape_blac = cv2.rectangle(shape_blac, start_point, end_point, color_black, thickness)\n",
    "                rectangle = cv2.rectangle(rectangle, start_point, end_point, color_white, thickness)\n",
    "                \n",
    "            elif user_shape.lower() == 'circle':\n",
    "                shape_blac = cv2.circle(shape_blac, center_point, (center_h - distance_h), color_black, thickness)\n",
    "                rectangle = cv2.circle(rectangle, center_point, (center_h - distance_h), color_white, thickness)\n",
    "                \n",
    "            rec_outer = cv2.bitwise_and(frame, frame, mask=rectangle)\n",
    "\n",
    "            out = cv2.bitwise_or(rec_outer, shape_blac)\n",
    "            cv2.imshow('Input',frame)\n",
    "            cv2.imshow('Blurring',shape_blac)\n",
    "            cv2.imshow('Portrait',rec_outer)\n",
    "            cv2.imshow('Output Final',out)\n",
    "            \n",
    "            # Exit by pressing 'q'\n",
    "            if cv2.waitKey(30) & 0xFF == ord('q'):\n",
    "                break\n",
    "                \n",
    "        # Breaking when video/live has finished\n",
    "        else:\n",
    "            break\n",
    "\n",
    "    cv2.destroyAllWindows()\n",
    "    cap.release()"
   ]
  },
  {
   "cell_type": "code",
   "execution_count": 3,
   "metadata": {},
   "outputs": [
    {
     "name": "stdin",
     "output_type": "stream",
     "text": [
      "Write your portrait selection (Rectangle / Circle):  circle\n"
     ]
    }
   ],
   "source": [
    "live_portrait()"
   ]
  },
  {
   "cell_type": "code",
   "execution_count": null,
   "metadata": {},
   "outputs": [],
   "source": []
  }
 ],
 "metadata": {
  "kernelspec": {
   "display_name": "Python 3",
   "language": "python",
   "name": "python3"
  },
  "language_info": {
   "codemirror_mode": {
    "name": "ipython",
    "version": 3
   },
   "file_extension": ".py",
   "mimetype": "text/x-python",
   "name": "python",
   "nbconvert_exporter": "python",
   "pygments_lexer": "ipython3",
   "version": "3.8.8"
  }
 },
 "nbformat": 4,
 "nbformat_minor": 4
}
