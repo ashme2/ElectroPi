{
 "cells": [
  {
   "cell_type": "markdown",
   "metadata": {},
   "source": [
    "# Bird Eye View"
   ]
  },
  {
   "cell_type": "markdown",
   "metadata": {},
   "source": [
    "#### This code is a prespective transformation for a highway image and makes a bird eye view video."
   ]
  },
  {
   "cell_type": "markdown",
   "metadata": {},
   "source": [
    "![alt text](Comparison_of_graphical_projections.svg.png \"Graphical Projections\")"
   ]
  },
  {
   "cell_type": "markdown",
   "metadata": {},
   "source": [
    "### Bird eye view prespective transformation for a highway:\n",
    "#### is transformation perspective 1-point view to paralel plan view, it looks like the folowing figure."
   ]
  },
  {
   "cell_type": "markdown",
   "metadata": {},
   "source": [
    "![alt text](BirdEye.JPG \"Bird Eye View\")"
   ]
  },
  {
   "cell_type": "code",
   "execution_count": 1,
   "metadata": {},
   "outputs": [],
   "source": [
    "import numpy as np \n",
    "import cv2"
   ]
  },
  {
   "cell_type": "code",
   "execution_count": 2,
   "metadata": {},
   "outputs": [],
   "source": [
    "def birdeye():\n",
    "    \n",
    "    cap = cv2.VideoCapture('https://archive.org/download/road_20211003/road.mp4')    # This is an online link for my video\n",
    "    #cap = cv2.VideoCapture('road.mp4')     # Write your video name\n",
    "    while(cap.isOpened()):\n",
    "\n",
    "        ret, frame = cap.read()\n",
    "        # Checking if video run or finished\n",
    "        if ret==True:\n",
    "            \n",
    "            # Adjust your 4 points\n",
    "            pts1 = np.float32([[535,550],[714,550],[0,700],[1280,720]])\n",
    "            pts2 = np.float32([[0,0],[500,0],[0,500],[500,500]])\n",
    "\n",
    "            M = cv2.getPerspectiveTransform(pts1,pts2)\n",
    "            dst = cv2.warpPerspective(frame,M,(500,500))\n",
    "\n",
    "            cv2.imshow('Input',frame)\n",
    "            cv2.imshow('Output',dst)\n",
    "            \n",
    "            # Exit by pressing 'q'\n",
    "            if cv2.waitKey(30) & 0xFF == ord('q'):\n",
    "                break\n",
    "                \n",
    "        # Breaking when video is finished\n",
    "        else:\n",
    "            break\n",
    "\n",
    "    cv2.destroyAllWindows()\n",
    "    cap.release()"
   ]
  },
  {
   "cell_type": "code",
   "execution_count": 3,
   "metadata": {},
   "outputs": [],
   "source": [
    "birdeye()"
   ]
  },
  {
   "cell_type": "code",
   "execution_count": null,
   "metadata": {},
   "outputs": [],
   "source": []
  }
 ],
 "metadata": {
  "kernelspec": {
   "display_name": "Python 3",
   "language": "python",
   "name": "python3"
  },
  "language_info": {
   "codemirror_mode": {
    "name": "ipython",
    "version": 3
   },
   "file_extension": ".py",
   "mimetype": "text/x-python",
   "name": "python",
   "nbconvert_exporter": "python",
   "pygments_lexer": "ipython3",
   "version": "3.8.8"
  }
 },
 "nbformat": 4,
 "nbformat_minor": 4
}
